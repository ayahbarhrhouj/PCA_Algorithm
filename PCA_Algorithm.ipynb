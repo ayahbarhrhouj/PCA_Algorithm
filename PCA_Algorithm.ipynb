{
 "cells": [
  {
   "cell_type": "code",
   "execution_count": 7,
   "id": "368a21d7",
   "metadata": {},
   "outputs": [],
   "source": [
    "# pandas : panel data , for easy data manipulation..\n",
    "import pandas as pd \n",
    "\n",
    "# numpy : numerical python extensions, for array manipulation and math operations.\n",
    "import numpy as np\n",
    "\n",
    "# decomposition : Package for principal component analysis of scikit learn.\n",
    "from sklearn.decomposition import PCA\n",
    "\n",
    "# preprocessing : package to center and normalize data before performing PCA.\n",
    "from sklearn.preprocessing import StandardScaler\n",
    "\n",
    "# matplotlib : to draw graphs, plots ...\n",
    "import matplotlib.pyplot as plt\n"
   ]
  },
  {
   "cell_type": "code",
   "execution_count": null,
   "id": "23efdbfd",
   "metadata": {},
   "outputs": [],
   "source": []
  },
  {
   "cell_type": "code",
   "execution_count": 8,
   "id": "a0775176",
   "metadata": {},
   "outputs": [
    {
     "name": "stdout",
     "output_type": "stream",
     "text": [
      "<class 'pandas.core.frame.DataFrame'>\n",
      "RangeIndex: 8618 entries, 0 to 8617\n",
      "Data columns (total 45 columns):\n",
      " #   Column            Non-Null Count  Dtype  \n",
      "---  ------            --------------  -----  \n",
      " 0   ID                8618 non-null   int64  \n",
      " 1   FoodGroup         8618 non-null   object \n",
      " 2   ShortDescrip      8618 non-null   object \n",
      " 3   Descrip           8618 non-null   object \n",
      " 4   CommonName        1063 non-null   object \n",
      " 5   MfgName           1560 non-null   object \n",
      " 6   ScientificName    732 non-null    object \n",
      " 7   Energy_kcal       8618 non-null   float64\n",
      " 8   Protein_g         8618 non-null   float64\n",
      " 9   Fat_g             8618 non-null   float64\n",
      " 10  Carb_g            8618 non-null   float64\n",
      " 11  Sugar_g           8618 non-null   float64\n",
      " 12  Fiber_g           8618 non-null   float64\n",
      " 13  VitA_mcg          8618 non-null   float64\n",
      " 14  VitB6_mg          8618 non-null   float64\n",
      " 15  VitB12_mcg        8618 non-null   float64\n",
      " 16  VitC_mg           8618 non-null   float64\n",
      " 17  VitE_mg           8618 non-null   float64\n",
      " 18  Folate_mcg        8618 non-null   float64\n",
      " 19  Niacin_mg         8618 non-null   float64\n",
      " 20  Riboflavin_mg     8618 non-null   float64\n",
      " 21  Thiamin_mg        8618 non-null   float64\n",
      " 22  Calcium_mg        8618 non-null   float64\n",
      " 23  Copper_mcg        8618 non-null   float64\n",
      " 24  Iron_mg           8618 non-null   float64\n",
      " 25  Magnesium_mg      8618 non-null   float64\n",
      " 26  Manganese_mg      8618 non-null   float64\n",
      " 27  Phosphorus_mg     8618 non-null   float64\n",
      " 28  Selenium_mcg      8618 non-null   float64\n",
      " 29  Zinc_mg           8618 non-null   float64\n",
      " 30  VitA_USRDA        8618 non-null   float64\n",
      " 31  VitB6_USRDA       8618 non-null   float64\n",
      " 32  VitB12_USRDA      8618 non-null   float64\n",
      " 33  VitC_USRDA        8618 non-null   float64\n",
      " 34  VitE_USRDA        8618 non-null   float64\n",
      " 35  Folate_USRDA      8618 non-null   float64\n",
      " 36  Niacin_USRDA      8618 non-null   float64\n",
      " 37  Riboflavin_USRDA  8618 non-null   float64\n",
      " 38  Thiamin_USRDA     8618 non-null   float64\n",
      " 39  Calcium_USRDA     8618 non-null   float64\n",
      " 40  Copper_USRDA      8618 non-null   float64\n",
      " 41  Magnesium_USRDA   8618 non-null   float64\n",
      " 42  Phosphorus_USRDA  8618 non-null   float64\n",
      " 43  Selenium_USRDA    8618 non-null   float64\n",
      " 44  Zinc_USRDA        8618 non-null   float64\n",
      "dtypes: float64(38), int64(1), object(6)\n",
      "memory usage: 3.0+ MB\n"
     ]
    }
   ],
   "source": [
    "\n",
    "# import data from our demo dataset file.\n",
    "demographic_data = pd.read_csv(\"./nndb_flat1.csv\")\n",
    "\n",
    "# data information\n",
    "demographic_data.info()\n"
   ]
  },
  {
   "cell_type": "code",
   "execution_count": null,
   "id": "a4e48f9f",
   "metadata": {},
   "outputs": [],
   "source": []
  },
  {
   "cell_type": "code",
   "execution_count": 9,
   "id": "bf18a18d",
   "metadata": {},
   "outputs": [
    {
     "name": "stdout",
     "output_type": "stream",
     "text": [
      "     ID               FoodGroup              ShortDescrip  \\\n",
      "0  1001  Dairy and Egg Products          BUTTER,WITH SALT   \n",
      "1  1002  Dairy and Egg Products  BUTTER,WHIPPED,WITH SALT   \n",
      "2  1003  Dairy and Egg Products      BUTTER OIL,ANHYDROUS   \n",
      "3  1004  Dairy and Egg Products               CHEESE,BLUE   \n",
      "4  1005  Dairy and Egg Products              CHEESE,BRICK   \n",
      "\n",
      "                      Descrip CommonName MfgName ScientificName  Energy_kcal  \\\n",
      "0              Butter, salted        NaN     NaN            NaN        717.0   \n",
      "1  Butter, whipped, with salt        NaN     NaN            NaN        717.0   \n",
      "2       Butter oil, anhydrous        NaN     NaN            NaN        876.0   \n",
      "3                Cheese, blue        NaN     NaN            NaN        353.0   \n",
      "4               Cheese, brick        NaN     NaN            NaN        371.0   \n",
      "\n",
      "   Protein_g  Fat_g  ...  Folate_USRDA  Niacin_USRDA  Riboflavin_USRDA  \\\n",
      "0       0.85  81.11  ...        0.0075      0.002625          0.026154   \n",
      "1       0.85  81.11  ...        0.0075      0.002625          0.026154   \n",
      "2       0.28  99.48  ...        0.0000      0.000188          0.003846   \n",
      "3      21.40  28.74  ...        0.0900      0.063500          0.293846   \n",
      "4      23.24  29.68  ...        0.0500      0.007375          0.270000   \n",
      "\n",
      "   Thiamin_USRDA  Calcium_USRDA  Copper_USRDA  Magnesium_USRDA  \\\n",
      "0       0.004167       0.020000      0.000000         0.004762   \n",
      "1       0.004167       0.020000      0.000018         0.004762   \n",
      "2       0.000833       0.003333      0.000001         0.000000   \n",
      "3       0.024167       0.440000      0.000044         0.054762   \n",
      "4       0.011667       0.561667      0.000027         0.057143   \n",
      "\n",
      "   Phosphorus_USRDA  Selenium_USRDA  Zinc_USRDA  \n",
      "0          0.034286        0.018182    0.008182  \n",
      "1          0.032857        0.018182    0.004545  \n",
      "2          0.004286        0.000000    0.000909  \n",
      "3          0.552857        0.263636    0.241818  \n",
      "4          0.644286        0.263636    0.236364  \n",
      "\n",
      "[5 rows x 45 columns]\n"
     ]
    }
   ],
   "source": [
    "\n",
    "# Head method returns the first 5 rows of data\n",
    "print( demographic_data.head() )\n"
   ]
  },
  {
   "cell_type": "code",
   "execution_count": 10,
   "id": "db851287",
   "metadata": {},
   "outputs": [
    {
     "name": "stdout",
     "output_type": "stream",
     "text": [
      "(8618, 45)\n"
     ]
    }
   ],
   "source": [
    "\n",
    "# The shape attribute returns the dimensions of our demographic_data\n",
    "print( demographic_data.shape )\n",
    "\n",
    "# there are 8618 samples and 45 variables\n"
   ]
  },
  {
   "cell_type": "code",
   "execution_count": null,
   "id": "43c4a427",
   "metadata": {},
   "outputs": [],
   "source": []
  },
  {
   "cell_type": "code",
   "execution_count": 11,
   "id": "b656cb75",
   "metadata": {},
   "outputs": [
    {
     "name": "stdout",
     "output_type": "stream",
     "text": [
      "                              ID  Energy_kcal  Protein_g  Fat_g  Carb_g  \\\n",
      "Descrip                                                                   \n",
      "Butter, salted              1001        717.0       0.85  81.11    0.06   \n",
      "Butter, whipped, with salt  1002        717.0       0.85  81.11    0.06   \n",
      "Butter oil, anhydrous       1003        876.0       0.28  99.48    0.00   \n",
      "Cheese, blue                1004        353.0      21.40  28.74    2.34   \n",
      "Cheese, brick               1005        371.0      23.24  29.68    2.79   \n",
      "\n",
      "                            Sugar_g  Fiber_g  VitA_mcg  VitB6_mg  VitB12_mcg  \\\n",
      "Descrip                                                                        \n",
      "Butter, salted                 0.06      0.0     684.0     0.003        0.17   \n",
      "Butter, whipped, with salt     0.06      0.0     684.0     0.003        0.13   \n",
      "Butter oil, anhydrous          0.00      0.0     840.0     0.001        0.01   \n",
      "Cheese, blue                   0.50      0.0     198.0     0.166        1.22   \n",
      "Cheese, brick                  0.51      0.0     292.0     0.065        1.26   \n",
      "\n",
      "                            ...  Folate_USRDA  Niacin_USRDA  Riboflavin_USRDA  \\\n",
      "Descrip                     ...                                                 \n",
      "Butter, salted              ...        0.0075      0.002625          0.026154   \n",
      "Butter, whipped, with salt  ...        0.0075      0.002625          0.026154   \n",
      "Butter oil, anhydrous       ...        0.0000      0.000188          0.003846   \n",
      "Cheese, blue                ...        0.0900      0.063500          0.293846   \n",
      "Cheese, brick               ...        0.0500      0.007375          0.270000   \n",
      "\n",
      "                            Thiamin_USRDA  Calcium_USRDA  Copper_USRDA  \\\n",
      "Descrip                                                                  \n",
      "Butter, salted                   0.004167       0.020000      0.000000   \n",
      "Butter, whipped, with salt       0.004167       0.020000      0.000018   \n",
      "Butter oil, anhydrous            0.000833       0.003333      0.000001   \n",
      "Cheese, blue                     0.024167       0.440000      0.000044   \n",
      "Cheese, brick                    0.011667       0.561667      0.000027   \n",
      "\n",
      "                            Magnesium_USRDA  Phosphorus_USRDA  Selenium_USRDA  \\\n",
      "Descrip                                                                         \n",
      "Butter, salted                     0.004762          0.034286        0.018182   \n",
      "Butter, whipped, with salt         0.004762          0.032857        0.018182   \n",
      "Butter oil, anhydrous              0.000000          0.004286        0.000000   \n",
      "Cheese, blue                       0.054762          0.552857        0.263636   \n",
      "Cheese, brick                      0.057143          0.644286        0.263636   \n",
      "\n",
      "                            Zinc_USRDA  \n",
      "Descrip                                 \n",
      "Butter, salted                0.008182  \n",
      "Butter, whipped, with salt    0.004545  \n",
      "Butter oil, anhydrous         0.000909  \n",
      "Cheese, blue                  0.241818  \n",
      "Cheese, brick                 0.236364  \n",
      "\n",
      "[5 rows x 39 columns]\n"
     ]
    }
   ],
   "source": [
    "\n",
    "# separation of non-numeric variables\n",
    "# When inplace = True is passed, the data is renamed instead (it doesn't return anything).\n",
    "# the index for the data, inplace (true): modifies the same DataFrame object without creating another modified one.\n",
    "demographic_data.set_index('FoodGroup', inplace=True)\n",
    "demographic_data.set_index('ShortDescrip', inplace=True)\n",
    "demographic_data.set_index('CommonName', inplace=True)\n",
    "demographic_data.set_index('MfgName', inplace=True)\n",
    "demographic_data.set_index('ScientificName', inplace=True)\n",
    "demographic_data.set_index('Descrip', inplace=True)\n",
    "  \n",
    "print(  demographic_data.head()  )\n"
   ]
  },
  {
   "cell_type": "code",
   "execution_count": null,
   "id": "0868e1eb",
   "metadata": {},
   "outputs": [],
   "source": []
  },
  {
   "cell_type": "code",
   "execution_count": 12,
   "id": "2138b0c7",
   "metadata": {},
   "outputs": [
    {
     "name": "stdout",
     "output_type": "stream",
     "text": [
      " mean :  0.0\n",
      " variance :  1.0\n"
     ]
    }
   ],
   "source": [
    "\n",
    "# normalization and centering of data\n",
    "# mean = 0, variance = 1, samples must be rows otherwise you must transpose them (demographic_data.T)\n",
    "\n",
    "scaled_demographic_data = StandardScaler().fit_transform(demographic_data)\n",
    "\n",
    "# round , 2 chiffres significatifs\n",
    "print (\" mean : \", np.round(scaled_demographic_data.mean(), 2))\n",
    "print (\" variance : \", np.round(scaled_demographic_data.std(), 2))\n"
   ]
  },
  {
   "cell_type": "code",
   "execution_count": 13,
   "id": "eafe4dfb",
   "metadata": {},
   "outputs": [],
   "source": [
    "#*** PCA ***"
   ]
  },
  {
   "cell_type": "code",
   "execution_count": 14,
   "id": "4ff69255",
   "metadata": {},
   "outputs": [],
   "source": [
    "\n",
    "# instantiation of a PCA object to train with our data set, number of components to keep: 3\n",
    "pca_var = PCA(n_components=3)\n",
    "pca=pca_var.fit_transform(scaled_demographic_data)\n"
   ]
  },
  {
   "cell_type": "code",
   "execution_count": 15,
   "id": "fade117e",
   "metadata": {},
   "outputs": [
    {
     "name": "stdout",
     "output_type": "stream",
     "text": [
      "[9.86993423 4.11526684 3.42939355]\n",
      "[[ 0.60203363  0.00990306  0.00561139 ...  0.0229389   0.00438794\n",
      "  -0.00472782]\n",
      " [ 0.00990306  0.78203952  0.11218038 ...  0.27902966  0.06486945\n",
      "   0.15832765]\n",
      " [ 0.00561139  0.11218038  0.82919898 ...  0.30696558  0.18608328\n",
      "   0.22811505]\n",
      " ...\n",
      " [ 0.0229389   0.27902966  0.30696558 ...  1.17861787  0.22853195\n",
      "   0.29279016]\n",
      " [ 0.00438794  0.06486945  0.18608328 ...  0.22853195  0.75691466\n",
      "   0.16588975]\n",
      " [-0.00472782  0.15832765  0.22811505 ...  0.29279016  0.16588975\n",
      "   0.93799021]]\n",
      "0.44647625391190526\n"
     ]
    }
   ],
   "source": [
    "\n",
    "# explained_variance_ratio_ : the eigenvalues of the principal components. (own values)\n",
    "\n",
    "## explained_variance_ : i.e. the eigenvalues of the covariance matrix\n",
    "print ( pca_var.explained_variance_ )\n",
    "\n",
    "# get_covariance() : calculate covariances from the data matrix.\n",
    "print ( pca_var.get_covariance() )\n",
    "\n",
    "# explained_variance_ratio_ : array with the variance proportions associated with the axes. (how much information he carries)\n",
    "\n",
    "# the first 3 eigenvectors represent 77% of the available information, they will be kept\n",
    "print ( pca_var.explained_variance_ratio_[:3].sum() )\n",
    "#explained_variance_ratio_: it is a table of the variance of the data explained by each of the 3 principal components\n"
   ]
  },
  {
   "cell_type": "code",
   "execution_count": 16,
   "id": "57ebc792",
   "metadata": {},
   "outputs": [],
   "source": [
    "# *** Graphs of eigenvalues ***"
   ]
  },
  {
   "cell_type": "code",
   "execution_count": 17,
   "id": "bf77ea86",
   "metadata": {},
   "outputs": [
    {
     "data": {
      "image/png": "[encoded data removed]",
      "text/plain": [
       "<Figure size 432x288 with 1 Axes>"
      ]
     },
     "metadata": {
      "needs_background": "light"
     },
     "output_type": "display_data"
    }
   ],
   "source": [
    "\n",
    "# eigen values\n",
    "per_var = np.round(pca_var.explained_variance_ratio_,decimals=1)\n",
    "\n",
    "# creation of labels for the principal components\n",
    "labels = ['PC' + str(x) for x in range( 1 , len(per_var) +1 ) ]\n",
    "\n",
    "# graph creation\n",
    "plt.bar( x=range( 1,len(per_var)+1 ), height=per_var, tick_label=labels)\n",
    "plt.ylabel('Eigenvalues')\n",
    "plt.xlabel('Main components')\n",
    "plt.title('Graph')\n",
    "plt.show()\n"
   ]
  },
  {
   "cell_type": "code",
   "execution_count": 18,
   "id": "0ad820bb",
   "metadata": {},
   "outputs": [],
   "source": [
    "#*** Labeling and renaming of components ***"
   ]
  },
  {
   "cell_type": "code",
   "execution_count": 19,
   "id": "37baf26c",
   "metadata": {},
   "outputs": [],
   "source": [
    "\n",
    "pca = pd.DataFrame(pca[:, :3], index=demographic_data.index)\n",
    "pca.rename(columns={0:'c1',1:'c2',2:'c3'}, inplace=True)\n"
   ]
  },
  {
   "cell_type": "code",
   "execution_count": 20,
   "id": "cde46205",
   "metadata": {},
   "outputs": [
    {
     "data": {
      "text/html": [
       "<div>\n",
       "<style scoped>\n",
       "    .dataframe tbody tr th:only-of-type {\n",
       "        vertical-align: middle;\n",
       "    }\n",
       "\n",
       "    .dataframe tbody tr th {\n",
       "        vertical-align: top;\n",
       "    }\n",
       "\n",
       "    .dataframe thead th {\n",
       "        text-align: right;\n",
       "    }\n",
       "</style>\n",
       "<table border=\"1\" class=\"dataframe\">\n",
       "  <thead>\n",
       "    <tr style=\"text-align: right;\">\n",
       "      <th></th>\n",
       "      <th>c1</th>\n",
       "      <th>c2</th>\n",
       "      <th>c3</th>\n",
       "    </tr>\n",
       "  </thead>\n",
       "  <tbody>\n",
       "    <tr>\n",
       "      <th>c1</th>\n",
       "      <td>1.0</td>\n",
       "      <td>0.0</td>\n",
       "      <td>0.0</td>\n",
       "    </tr>\n",
       "    <tr>\n",
       "      <th>c2</th>\n",
       "      <td>0.0</td>\n",
       "      <td>1.0</td>\n",
       "      <td>0.0</td>\n",
       "    </tr>\n",
       "    <tr>\n",
       "      <th>c3</th>\n",
       "      <td>0.0</td>\n",
       "      <td>0.0</td>\n",
       "      <td>1.0</td>\n",
       "    </tr>\n",
       "  </tbody>\n",
       "</table>\n",
       "</div>"
      ],
      "text/plain": [
       "     c1   c2   c3\n",
       "c1  1.0  0.0  0.0\n",
       "c2  0.0  1.0  0.0\n",
       "c3  0.0  0.0  1.0"
      ]
     },
     "execution_count": 20,
     "metadata": {},
     "output_type": "execute_result"
    }
   ],
   "source": [
    "\n",
    "# we see that the 3 vectors are orthogonal\n",
    "np.round(pca.corr(), 2)\n"
   ]
  },
  {
   "cell_type": "code",
   "execution_count": 21,
   "id": "b0cc6a9e",
   "metadata": {},
   "outputs": [],
   "source": [
    "#*** Interpretation of components ***"
   ]
  },
  {
   "cell_type": "code",
   "execution_count": 22,
   "id": "ae4b4296",
   "metadata": {},
   "outputs": [],
   "source": [
    "#*** Component one : ***"
   ]
  },
  {
   "cell_type": "code",
   "execution_count": 23,
   "id": "c9a55da1",
   "metadata": {},
   "outputs": [
    {
     "data": {
      "text/plain": [
       "Riboflavin_mg       0.262418\n",
       "Riboflavin_USRDA    0.262418\n",
       "Niacin_USRDA        0.258812\n",
       "Niacin_mg           0.258812\n",
       "VitB6_USRDA         0.240501\n",
       "VitB6_mg            0.240501\n",
       "Folate_USRDA        0.212681\n",
       "Folate_mcg          0.212681\n",
       "Iron_mg             0.207562\n",
       "Thiamin_USRDA       0.204830\n",
       "Thiamin_mg          0.204830\n",
       "Zinc_USRDA          0.187754\n",
       "Zinc_mg             0.187754\n",
       "Magnesium_USRDA     0.166954\n",
       "Magnesium_mg        0.166954\n",
       "VitB12_USRDA        0.147748\n",
       "VitB12_mcg          0.147748\n",
       "Phosphorus_mg       0.147742\n",
       "Phosphorus_USRDA    0.147742\n",
       "Copper_mcg          0.140441\n",
       "Copper_USRDA        0.140441\n",
       "Calcium_mg          0.118451\n",
       "Calcium_USRDA       0.118451\n",
       "Fiber_g             0.112385\n",
       "Protein_g           0.110871\n",
       "VitA_USRDA          0.109110\n",
       "VitA_mcg            0.109110\n",
       "VitE_USRDA          0.099110\n",
       "VitE_mg             0.099110\n",
       "Carb_g              0.098864\n",
       "Energy_kcal         0.093200\n",
       "Selenium_mcg        0.075550\n",
       "Selenium_USRDA      0.075550\n",
       "VitC_USRDA          0.070313\n",
       "VitC_mg             0.070313\n",
       "Manganese_mg        0.065267\n",
       "Sugar_g             0.038766\n",
       "Fat_g               0.013142\n",
       "ID                 -0.003768\n",
       "dtype: float64"
      ]
     },
     "execution_count": 23,
     "metadata": {},
     "output_type": "execute_result"
    }
   ],
   "source": [
    "\n",
    "# copy the 3 components in the vects variable\n",
    "vects = pca_var.components_[:3]\n",
    "\n",
    "# pd.Series : One-dimensional array with axis labels\n",
    "one = pd.Series(vects[0], index=demographic_data.columns)\n",
    "one.sort_values(ascending=False)\n",
    "\n",
    "# these values represent the contribution of the initial variables to the construction of the principal components\n"
   ]
  },
  {
   "cell_type": "code",
   "execution_count": 24,
   "id": "be83d078",
   "metadata": {},
   "outputs": [],
   "source": [
    "#*** Component two : ***"
   ]
  },
  {
   "cell_type": "code",
   "execution_count": 25,
   "id": "ecb860dc",
   "metadata": {},
   "outputs": [
    {
     "data": {
      "text/plain": [
       "VitB12_mcg          0.359395\n",
       "VitB12_USRDA        0.359395\n",
       "VitA_mcg            0.338235\n",
       "VitA_USRDA          0.338235\n",
       "Copper_USRDA        0.306430\n",
       "Copper_mcg          0.306430\n",
       "Selenium_USRDA      0.133966\n",
       "Selenium_mcg        0.133966\n",
       "Manganese_mg        0.125244\n",
       "Protein_g           0.121639\n",
       "Zinc_USRDA          0.048129\n",
       "Zinc_mg             0.048129\n",
       "Riboflavin_mg       0.013650\n",
       "Riboflavin_USRDA    0.013650\n",
       "Phosphorus_USRDA    0.001109\n",
       "Phosphorus_mg       0.001109\n",
       "ID                 -0.004826\n",
       "Fat_g              -0.017838\n",
       "VitC_mg            -0.051677\n",
       "VitC_USRDA         -0.051677\n",
       "Niacin_mg          -0.058509\n",
       "Niacin_USRDA       -0.058509\n",
       "VitE_mg            -0.077676\n",
       "VitE_USRDA         -0.077676\n",
       "VitB6_mg           -0.082904\n",
       "VitB6_USRDA        -0.082904\n",
       "Magnesium_USRDA    -0.089215\n",
       "Magnesium_mg       -0.089215\n",
       "Iron_mg            -0.100613\n",
       "Calcium_USRDA      -0.105701\n",
       "Calcium_mg         -0.105701\n",
       "Energy_kcal        -0.107462\n",
       "Folate_USRDA       -0.130890\n",
       "Folate_mcg         -0.130890\n",
       "Sugar_g            -0.136787\n",
       "Thiamin_USRDA      -0.139934\n",
       "Thiamin_mg         -0.139934\n",
       "Fiber_g            -0.141735\n",
       "Carb_g             -0.207789\n",
       "dtype: float64"
      ]
     },
     "execution_count": 25,
     "metadata": {},
     "output_type": "execute_result"
    }
   ],
   "source": [
    "two = pd.Series(vects[1], index=demographic_data.columns)\n",
    "two.sort_values(ascending=False)"
   ]
  },
  {
   "cell_type": "code",
   "execution_count": 26,
   "id": "15b02cba",
   "metadata": {},
   "outputs": [],
   "source": [
    "#*** Component three : ***"
   ]
  },
  {
   "cell_type": "code",
   "execution_count": 27,
   "id": "e105f353",
   "metadata": {},
   "outputs": [
    {
     "data": {
      "text/plain": [
       "Phosphorus_mg       0.364788\n",
       "Phosphorus_USRDA    0.364788\n",
       "Calcium_USRDA       0.297885\n",
       "Calcium_mg          0.297885\n",
       "Magnesium_mg        0.283037\n",
       "Magnesium_USRDA     0.283037\n",
       "Protein_g           0.149814\n",
       "Energy_kcal         0.147061\n",
       "Fiber_g             0.138098\n",
       "Fat_g               0.136457\n",
       "Selenium_mcg        0.120648\n",
       "Selenium_USRDA      0.120648\n",
       "Copper_mcg          0.102994\n",
       "Copper_USRDA        0.102994\n",
       "VitE_mg             0.047504\n",
       "VitE_USRDA          0.047504\n",
       "Manganese_mg        0.035313\n",
       "Zinc_mg             0.034348\n",
       "Zinc_USRDA          0.034348\n",
       "ID                  0.027241\n",
       "Iron_mg             0.014128\n",
       "Carb_g              0.011156\n",
       "Sugar_g            -0.036566\n",
       "VitA_USRDA         -0.063956\n",
       "VitA_mcg           -0.063956\n",
       "VitB12_mcg         -0.065610\n",
       "VitB12_USRDA       -0.065610\n",
       "VitC_USRDA         -0.086795\n",
       "VitC_mg            -0.086795\n",
       "VitB6_USRDA        -0.123685\n",
       "VitB6_mg           -0.123685\n",
       "Thiamin_mg         -0.143978\n",
       "Thiamin_USRDA      -0.143978\n",
       "Niacin_USRDA       -0.145737\n",
       "Niacin_mg          -0.145737\n",
       "Riboflavin_USRDA   -0.161772\n",
       "Riboflavin_mg      -0.161772\n",
       "Folate_mcg         -0.165566\n",
       "Folate_USRDA       -0.165566\n",
       "dtype: float64"
      ]
     },
     "execution_count": 27,
     "metadata": {},
     "output_type": "execute_result"
    }
   ],
   "source": [
    "three = pd.Series(vects[2], index=demographic_data.columns)\n",
    "three.sort_values(ascending=False)"
   ]
  }
 ],
 "metadata": {
  "kernelspec": {
   "display_name": "Python 3 (ipykernel)",
   "language": "python",
   "name": "python3"
  },
  "language_info": {
   "codemirror_mode": {
    "name": "ipython",
    "version": 3
   },
   "file_extension": ".py",
   "mimetype": "text/x-python",
   "name": "python",
   "nbconvert_exporter": "python",
   "pygments_lexer": "ipython3",
   "version": "3.8.10"
  }
 },
 "nbformat": 4,
 "nbformat_minor": 5
}
